{
 "cells": [
  {
   "cell_type": "code",
   "execution_count": 18,
   "metadata": {},
   "outputs": [],
   "source": [
    "# coding: utf-8\n",
    "\"\"\"\n",
    "Synthesis waveform from trained model.\n",
    "\n",
    "usage: synthesis.py [options] <checkpoint> <text_list_file> <dst_dir>\n",
    "\n",
    "options:\n",
    "    --hparams=<parmas>                Hyper parameters [default: ].\n",
    "    --checkpoint-seq2seq=<path>       Load seq2seq model from checkpoint path.\n",
    "    --checkpoint-postnet=<path>       Load postnet model from checkpoint path.\n",
    "    --file-name-suffix=<s>            File name suffix [default: ].\n",
    "    --max-decoder-steps=<N>           Max decoder steps [default: 500].\n",
    "    --replace_pronunciation_prob=<N>  Prob [default: 0.0].\n",
    "    --speaker_id=<id>                 Speaker ID (for multi-speaker model).\n",
    "    --output-html                     Output html for blog post.\n",
    "    -h, --help               Show help message.\n",
    "\"\"\"\n",
    "from docopt import docopt\n",
    "import sys\n",
    "import os\n",
    "from os.path import dirname, join, basename, splitext\n",
    "import audio\n",
    "import torch\n",
    "from torch.autograd import Variable\n",
    "import numpy as np\n",
    "import nltk\n",
    "# The deepvoice3 model\n",
    "from deepvoice3_pytorch import frontend\n",
    "from hparams import hparams\n",
    "from tqdm import tqdm\n",
    "import IPython.display as ipd\n",
    "\n",
    "\n",
    "use_cuda = torch.cuda.is_available()\n",
    "_frontend = None  # to be set later\n",
    "\n",
    "\n"
   ]
  },
  {
   "cell_type": "code",
   "execution_count": 19,
   "metadata": {},
   "outputs": [],
   "source": [
    "\n",
    "def tts(model, text, p=0, speaker_id=None, fast=False):\n",
    "    \"\"\"Convert text to speech waveform given a deepvoice3 model.\n",
    "\n",
    "    Args:\n",
    "        text (str) : Input text to be synthesized\n",
    "        p (float) : Replace word to pronounciation if p > 0. Default is 0.\n",
    "    \"\"\"\n",
    "    if use_cuda:\n",
    "        model = model.cuda()\n",
    "    model.eval()\n",
    "    if fast:\n",
    "        model.make_generation_fast_()\n",
    "\n",
    "    sequence = np.array(_frontend.text_to_sequence(text, p=p))\n",
    "    sequence = Variable(torch.from_numpy(sequence)).unsqueeze(0)\n",
    "    text_positions = torch.arange(1, sequence.size(-1) + 1).unsqueeze(0).long()\n",
    "    text_positions = Variable(text_positions)\n",
    "    speaker_ids = None if speaker_id is None else Variable(torch.LongTensor([speaker_id]))\n",
    "    if use_cuda:\n",
    "        sequence = sequence.cuda()\n",
    "        text_positions = text_positions.cuda()\n",
    "        speaker_ids = None if speaker_ids is None else speaker_ids.cuda()\n",
    "\n",
    "    # Greedy decoding\n",
    "    mel_outputs, linear_outputs, alignments, done = model(\n",
    "        sequence, text_positions=text_positions, speaker_ids=speaker_ids)\n",
    "\n",
    "    linear_output = linear_outputs[0].cpu().data.numpy()\n",
    "    spectrogram = audio._denormalize(linear_output)\n",
    "    alignment = alignments[0].cpu().data.numpy()\n",
    "    mel = mel_outputs[0].cpu().data.numpy()\n",
    "    mel = audio._denormalize(mel)\n",
    "\n",
    "    # Predicted audio signal\n",
    "    waveform = audio.inv_spectrogram(linear_output.T)\n",
    "\n",
    "    return waveform, alignment, spectrogram, mel\n",
    "\n"
   ]
  },
  {
   "cell_type": "code",
   "execution_count": 20,
   "metadata": {},
   "outputs": [
    {
     "name": "stdout",
     "output_type": "stream",
     "text": [
      "{'--checkpoint-postnet': None,\n",
      " '--checkpoint-seq2seq': None,\n",
      " '--file-name-suffix': '',\n",
      " '--help': False,\n",
      " '--hparams': 'builder=deepvoice3,preset=deepvoice3_ljspeech',\n",
      " '--max-decoder-steps': '500',\n",
      " '--output-html': False,\n",
      " '--replace_pronunciation_prob': '0.0',\n",
      " '--speaker_id': None,\n",
      " '<checkpoint>': './checkpoints/20210412_cei_ljspeech_checkpoint_step001630000.pth',\n",
      " '<dst_dir>': './checkpoints',\n",
      " '<text_list_file>': './demostring.txt'}\n"
     ]
    }
   ],
   "source": [
    "import pickle\n",
    "with open(f'./argsdict.pickle', 'rb') as file2:\n",
    "    args = pickle.load(file2)\n",
    "print(args)"
   ]
  },
  {
   "cell_type": "code",
   "execution_count": 21,
   "metadata": {},
   "outputs": [],
   "source": [
    "def sec2numpy(sec):\n",
    "    return np.zeros(int(24000*sec))"
   ]
  },
  {
   "cell_type": "code",
   "execution_count": 22,
   "metadata": {},
   "outputs": [
    {
     "data": {
      "text/plain": [
       "HParams([('adam_beta1', 0.5), ('adam_beta2', 0.9), ('adam_eps', 1e-06), ('batch_size', 16), ('binary_divergence_weight', 0.1), ('builder', 'deepvoice3'), ('checkpoint_interval', 10000), ('clip_thresh', 0.1), ('converter_channels', 256), ('decoder_channels', 256), ('downsample_step', 4), ('dropout', 0.050000000000000044), ('embedding_weight_std', 0.1), ('encoder_channels', 512), ('eval_interval', 10000), ('fft_size', 1024), ('force_monotonic_attention', True), ('freeze_embedding', False), ('frontend', 'en'), ('guided_attention_sigma', 0.2), ('hop_size', 256), ('initial_learning_rate', 0.0005), ('kernel_size', 3), ('key_position_rate', 1.385), ('key_projection', True), ('lr_schedule', 'noam_learning_rate_decay'), ('lr_schedule_kwargs', {}), ('masked_loss_weight', 0.5), ('max_positions', 512), ('min_level_db', -100), ('n_speakers', 1), ('name', 'deepvoice3'), ('nepochs', 2000), ('num_mels', 80), ('num_workers', 2), ('outputs_per_step', 1), ('padding_idx', 0), ('pin_memory', True), ('power', 1.4), ('preemphasis', 0.97), ('preset', 'deepvoice3_ljspeech'), ('presets', {'deepvoice3_ljspeech': {'n_speakers': 1, 'downsample_step': 4, 'outputs_per_step': 1, 'embedding_weight_std': 0.1, 'dropout': 0.050000000000000044, 'kernel_size': 3, 'text_embed_dim': 256, 'encoder_channels': 512, 'decoder_channels': 256, 'converter_channels': 256, 'use_guided_attention': True, 'guided_attention_sigma': 0.2, 'binary_divergence_weight': 0.1, 'use_decoder_state_for_postnet_input': True, 'max_positions': 512, 'query_position_rate': 1.0, 'key_position_rate': 1.385, 'key_projection': True, 'value_projection': True, 'clip_thresh': 0.1, 'initial_learning_rate': 0.0005}, 'deepvoice3_vctk': {'n_speakers': 108, 'speaker_embed_dim': 16, 'downsample_step': 4, 'outputs_per_step': 1, 'embedding_weight_std': 0.1, 'speaker_embedding_weight_std': 0.05, 'dropout': 0.050000000000000044, 'kernel_size': 3, 'text_embed_dim': 256, 'encoder_channels': 512, 'decoder_channels': 256, 'converter_channels': 256, 'use_guided_attention': True, 'guided_attention_sigma': 0.4, 'binary_divergence_weight': 0.1, 'use_decoder_state_for_postnet_input': True, 'max_positions': 1024, 'query_position_rate': 2.0, 'key_position_rate': 7.6, 'key_projection': True, 'value_projection': True, 'clip_thresh': 0.1, 'initial_learning_rate': 0.0005}, 'nyanko_ljspeech': {'n_speakers': 1, 'downsample_step': 4, 'outputs_per_step': 1, 'embedding_weight_std': 0.01, 'dropout': 0.050000000000000044, 'kernel_size': 3, 'text_embed_dim': 128, 'encoder_channels': 256, 'decoder_channels': 256, 'converter_channels': 256, 'use_guided_attention': True, 'guided_attention_sigma': 0.2, 'binary_divergence_weight': 0.1, 'use_decoder_state_for_postnet_input': True, 'max_positions': 512, 'query_position_rate': 1.0, 'key_position_rate': 1.385, 'key_projection': False, 'value_projection': False, 'clip_thresh': 0.1, 'initial_learning_rate': 0.0005}}), ('priority_freq', 3000), ('priority_freq_weight', 0.0), ('query_position_rate', 1.0), ('ref_level_db', 20), ('replace_pronunciation_prob', 0.5), ('sample_rate', 22050), ('save_optimizer_state', True), ('speaker_embed_dim', 16), ('speaker_embedding_weight_std', 0.01), ('text_embed_dim', 256), ('trainable_positional_encodings', False), ('use_decoder_state_for_postnet_input', True), ('use_guided_attention', True), ('use_memory_mask', True), ('value_projection', True), ('weight_decay', 0.0), ('window_ahead', 3), ('window_backward', 1)])"
      ]
     },
     "execution_count": 22,
     "metadata": {},
     "output_type": "execute_result"
    }
   ],
   "source": [
    "hparams.parse(args[\"--hparams\"])"
   ]
  },
  {
   "cell_type": "code",
   "execution_count": 23,
   "metadata": {},
   "outputs": [
    {
     "name": "stdout",
     "output_type": "stream",
     "text": [
      "Command line args:\n",
      " {'--checkpoint-postnet': None,\n",
      " '--checkpoint-seq2seq': None,\n",
      " '--file-name-suffix': '',\n",
      " '--help': False,\n",
      " '--hparams': 'builder=deepvoice3,preset=deepvoice3_ljspeech',\n",
      " '--max-decoder-steps': '500',\n",
      " '--output-html': False,\n",
      " '--replace_pronunciation_prob': '0.0',\n",
      " '--speaker_id': None,\n",
      " '<checkpoint>': './checkpoints/20210412_cei_ljspeech_checkpoint_step001630000.pth',\n",
      " '<dst_dir>': './checkpoints',\n",
      " '<text_list_file>': './demostring.txt'}\n",
      "Override hyper parameters with preset \"deepvoice3_ljspeech\": {\n",
      "    \"n_speakers\": 1,\n",
      "    \"downsample_step\": 4,\n",
      "    \"outputs_per_step\": 1,\n",
      "    \"embedding_weight_std\": 0.1,\n",
      "    \"dropout\": 0.050000000000000044,\n",
      "    \"kernel_size\": 3,\n",
      "    \"text_embed_dim\": 256,\n",
      "    \"encoder_channels\": 512,\n",
      "    \"decoder_channels\": 256,\n",
      "    \"converter_channels\": 256,\n",
      "    \"use_guided_attention\": true,\n",
      "    \"guided_attention_sigma\": 0.2,\n",
      "    \"binary_divergence_weight\": 0.1,\n",
      "    \"use_decoder_state_for_postnet_input\": true,\n",
      "    \"max_positions\": 512,\n",
      "    \"query_position_rate\": 1.0,\n",
      "    \"key_position_rate\": 1.385,\n",
      "    \"key_projection\": true,\n",
      "    \"value_projection\": true,\n",
      "    \"clip_thresh\": 0.1,\n",
      "    \"initial_learning_rate\": 0.0005\n",
      "}\n"
     ]
    },
    {
     "ename": "AttributeError",
     "evalue": "'SinusoidalEncoding' object has no attribute '_backend'",
     "output_type": "error",
     "traceback": [
      "\u001b[0;31m---------------------------------------------------------------------------\u001b[0m",
      "\u001b[0;31mAttributeError\u001b[0m                            Traceback (most recent call last)",
      "\u001b[0;32m<ipython-input-23-b63623781a08>\u001b[0m in \u001b[0;36m<module>\u001b[0;34m\u001b[0m\n\u001b[1;32m     54\u001b[0m         \u001b[0mtext\u001b[0m \u001b[0;34m=\u001b[0m \u001b[0mline\u001b[0m\u001b[0;34m.\u001b[0m\u001b[0mdecode\u001b[0m\u001b[0;34m(\u001b[0m\u001b[0;34m\"utf-8\"\u001b[0m\u001b[0;34m)\u001b[0m\u001b[0;34m[\u001b[0m\u001b[0;34m:\u001b[0m\u001b[0;34m-\u001b[0m\u001b[0;36m1\u001b[0m\u001b[0;34m]\u001b[0m\u001b[0;34m\u001b[0m\u001b[0;34m\u001b[0m\u001b[0m\n\u001b[1;32m     55\u001b[0m         \u001b[0mwords\u001b[0m \u001b[0;34m=\u001b[0m \u001b[0mnltk\u001b[0m\u001b[0;34m.\u001b[0m\u001b[0mword_tokenize\u001b[0m\u001b[0;34m(\u001b[0m\u001b[0mtext\u001b[0m\u001b[0;34m)\u001b[0m\u001b[0;34m\u001b[0m\u001b[0;34m\u001b[0m\u001b[0m\n\u001b[0;32m---> 56\u001b[0;31m         \u001b[0mwaveform\u001b[0m\u001b[0;34m,\u001b[0m \u001b[0malignment\u001b[0m\u001b[0;34m,\u001b[0m \u001b[0m_\u001b[0m\u001b[0;34m,\u001b[0m \u001b[0m_\u001b[0m \u001b[0;34m=\u001b[0m \u001b[0mtts\u001b[0m\u001b[0;34m(\u001b[0m\u001b[0mmodel\u001b[0m\u001b[0;34m,\u001b[0m \u001b[0mtext\u001b[0m\u001b[0;34m,\u001b[0m \u001b[0mp\u001b[0m\u001b[0;34m=\u001b[0m\u001b[0mreplace_pronunciation_prob\u001b[0m\u001b[0;34m,\u001b[0m \u001b[0mspeaker_id\u001b[0m\u001b[0;34m=\u001b[0m\u001b[0mspeaker_id\u001b[0m\u001b[0;34m,\u001b[0m \u001b[0mfast\u001b[0m\u001b[0;34m=\u001b[0m\u001b[0;32mTrue\u001b[0m\u001b[0;34m)\u001b[0m\u001b[0;34m\u001b[0m\u001b[0;34m\u001b[0m\u001b[0m\n\u001b[0m\u001b[1;32m     57\u001b[0m         \u001b[0mdst_wav_path\u001b[0m \u001b[0;34m=\u001b[0m \u001b[0mjoin\u001b[0m\u001b[0;34m(\u001b[0m\u001b[0mdst_dir\u001b[0m\u001b[0;34m,\u001b[0m \u001b[0;34m\"{}_{}{}.wav\"\u001b[0m\u001b[0;34m.\u001b[0m\u001b[0mformat\u001b[0m\u001b[0;34m(\u001b[0m\u001b[0midx\u001b[0m\u001b[0;34m,\u001b[0m \u001b[0mcheckpoint_name\u001b[0m\u001b[0;34m,\u001b[0m \u001b[0mfile_name_suffix\u001b[0m\u001b[0;34m)\u001b[0m\u001b[0;34m)\u001b[0m\u001b[0;34m\u001b[0m\u001b[0;34m\u001b[0m\u001b[0m\n\u001b[1;32m     58\u001b[0m         \u001b[0mdst_alignment_path\u001b[0m \u001b[0;34m=\u001b[0m \u001b[0mjoin\u001b[0m\u001b[0;34m(\u001b[0m\u001b[0mdst_dir\u001b[0m\u001b[0;34m,\u001b[0m \u001b[0;34m\"{}_{}{}_alignment.png\"\u001b[0m\u001b[0;34m.\u001b[0m\u001b[0mformat\u001b[0m\u001b[0;34m(\u001b[0m\u001b[0midx\u001b[0m\u001b[0;34m,\u001b[0m \u001b[0mcheckpoint_name\u001b[0m\u001b[0;34m,\u001b[0m\u001b[0mfile_name_suffix\u001b[0m\u001b[0;34m)\u001b[0m\u001b[0;34m)\u001b[0m\u001b[0;34m\u001b[0m\u001b[0;34m\u001b[0m\u001b[0m\n",
      "\u001b[0;32m<ipython-input-19-241323450d61>\u001b[0m in \u001b[0;36mtts\u001b[0;34m(model, text, p, speaker_id, fast)\u001b[0m\n\u001b[1;32m     24\u001b[0m     \u001b[0;31m# Greedy decoding\u001b[0m\u001b[0;34m\u001b[0m\u001b[0;34m\u001b[0m\u001b[0;34m\u001b[0m\u001b[0m\n\u001b[1;32m     25\u001b[0m     mel_outputs, linear_outputs, alignments, done = model(\n\u001b[0;32m---> 26\u001b[0;31m         sequence, text_positions=text_positions, speaker_ids=speaker_ids)\n\u001b[0m\u001b[1;32m     27\u001b[0m \u001b[0;34m\u001b[0m\u001b[0m\n\u001b[1;32m     28\u001b[0m     \u001b[0mlinear_output\u001b[0m \u001b[0;34m=\u001b[0m \u001b[0mlinear_outputs\u001b[0m\u001b[0;34m[\u001b[0m\u001b[0;36m0\u001b[0m\u001b[0;34m]\u001b[0m\u001b[0;34m.\u001b[0m\u001b[0mcpu\u001b[0m\u001b[0;34m(\u001b[0m\u001b[0;34m)\u001b[0m\u001b[0;34m.\u001b[0m\u001b[0mdata\u001b[0m\u001b[0;34m.\u001b[0m\u001b[0mnumpy\u001b[0m\u001b[0;34m(\u001b[0m\u001b[0;34m)\u001b[0m\u001b[0;34m\u001b[0m\u001b[0;34m\u001b[0m\u001b[0m\n",
      "\u001b[0;32m/opt/conda/lib/python3.6/site-packages/torch/nn/modules/module.py\u001b[0m in \u001b[0;36m__call__\u001b[0;34m(self, *input, **kwargs)\u001b[0m\n\u001b[1;32m    539\u001b[0m             \u001b[0mresult\u001b[0m \u001b[0;34m=\u001b[0m \u001b[0mself\u001b[0m\u001b[0;34m.\u001b[0m\u001b[0m_slow_forward\u001b[0m\u001b[0;34m(\u001b[0m\u001b[0;34m*\u001b[0m\u001b[0minput\u001b[0m\u001b[0;34m,\u001b[0m \u001b[0;34m**\u001b[0m\u001b[0mkwargs\u001b[0m\u001b[0;34m)\u001b[0m\u001b[0;34m\u001b[0m\u001b[0;34m\u001b[0m\u001b[0m\n\u001b[1;32m    540\u001b[0m         \u001b[0;32melse\u001b[0m\u001b[0;34m:\u001b[0m\u001b[0;34m\u001b[0m\u001b[0;34m\u001b[0m\u001b[0m\n\u001b[0;32m--> 541\u001b[0;31m             \u001b[0mresult\u001b[0m \u001b[0;34m=\u001b[0m \u001b[0mself\u001b[0m\u001b[0;34m.\u001b[0m\u001b[0mforward\u001b[0m\u001b[0;34m(\u001b[0m\u001b[0;34m*\u001b[0m\u001b[0minput\u001b[0m\u001b[0;34m,\u001b[0m \u001b[0;34m**\u001b[0m\u001b[0mkwargs\u001b[0m\u001b[0;34m)\u001b[0m\u001b[0;34m\u001b[0m\u001b[0;34m\u001b[0m\u001b[0m\n\u001b[0m\u001b[1;32m    542\u001b[0m         \u001b[0;32mfor\u001b[0m \u001b[0mhook\u001b[0m \u001b[0;32min\u001b[0m \u001b[0mself\u001b[0m\u001b[0;34m.\u001b[0m\u001b[0m_forward_hooks\u001b[0m\u001b[0;34m.\u001b[0m\u001b[0mvalues\u001b[0m\u001b[0;34m(\u001b[0m\u001b[0;34m)\u001b[0m\u001b[0;34m:\u001b[0m\u001b[0;34m\u001b[0m\u001b[0;34m\u001b[0m\u001b[0m\n\u001b[1;32m    543\u001b[0m             \u001b[0mhook_result\u001b[0m \u001b[0;34m=\u001b[0m \u001b[0mhook\u001b[0m\u001b[0;34m(\u001b[0m\u001b[0mself\u001b[0m\u001b[0;34m,\u001b[0m \u001b[0minput\u001b[0m\u001b[0;34m,\u001b[0m \u001b[0mresult\u001b[0m\u001b[0;34m)\u001b[0m\u001b[0;34m\u001b[0m\u001b[0;34m\u001b[0m\u001b[0m\n",
      "\u001b[0;32m~/cei_pytorch_vc/deepvoice3_0421749/deepvoice3_pytorch/__init__.py\u001b[0m in \u001b[0;36mforward\u001b[0;34m(self, text_sequences, mel_targets, speaker_ids, text_positions, frame_positions, input_lengths)\u001b[0m\n\u001b[1;32m     77\u001b[0m         mel_outputs, alignments, done, decoder_states = self.seq2seq(\n\u001b[1;32m     78\u001b[0m             \u001b[0mtext_sequences\u001b[0m\u001b[0;34m,\u001b[0m \u001b[0mmel_targets\u001b[0m\u001b[0;34m,\u001b[0m \u001b[0mspeaker_embed\u001b[0m\u001b[0;34m,\u001b[0m\u001b[0;34m\u001b[0m\u001b[0;34m\u001b[0m\u001b[0m\n\u001b[0;32m---> 79\u001b[0;31m             text_positions, frame_positions, input_lengths)\n\u001b[0m\u001b[1;32m     80\u001b[0m \u001b[0;34m\u001b[0m\u001b[0m\n\u001b[1;32m     81\u001b[0m         \u001b[0;31m# Reshape\u001b[0m\u001b[0;34m\u001b[0m\u001b[0;34m\u001b[0m\u001b[0;34m\u001b[0m\u001b[0m\n",
      "\u001b[0;32m/opt/conda/lib/python3.6/site-packages/torch/nn/modules/module.py\u001b[0m in \u001b[0;36m__call__\u001b[0;34m(self, *input, **kwargs)\u001b[0m\n\u001b[1;32m    539\u001b[0m             \u001b[0mresult\u001b[0m \u001b[0;34m=\u001b[0m \u001b[0mself\u001b[0m\u001b[0;34m.\u001b[0m\u001b[0m_slow_forward\u001b[0m\u001b[0;34m(\u001b[0m\u001b[0;34m*\u001b[0m\u001b[0minput\u001b[0m\u001b[0;34m,\u001b[0m \u001b[0;34m**\u001b[0m\u001b[0mkwargs\u001b[0m\u001b[0;34m)\u001b[0m\u001b[0;34m\u001b[0m\u001b[0;34m\u001b[0m\u001b[0m\n\u001b[1;32m    540\u001b[0m         \u001b[0;32melse\u001b[0m\u001b[0;34m:\u001b[0m\u001b[0;34m\u001b[0m\u001b[0;34m\u001b[0m\u001b[0m\n\u001b[0;32m--> 541\u001b[0;31m             \u001b[0mresult\u001b[0m \u001b[0;34m=\u001b[0m \u001b[0mself\u001b[0m\u001b[0;34m.\u001b[0m\u001b[0mforward\u001b[0m\u001b[0;34m(\u001b[0m\u001b[0;34m*\u001b[0m\u001b[0minput\u001b[0m\u001b[0;34m,\u001b[0m \u001b[0;34m**\u001b[0m\u001b[0mkwargs\u001b[0m\u001b[0;34m)\u001b[0m\u001b[0;34m\u001b[0m\u001b[0;34m\u001b[0m\u001b[0m\n\u001b[0m\u001b[1;32m    542\u001b[0m         \u001b[0;32mfor\u001b[0m \u001b[0mhook\u001b[0m \u001b[0;32min\u001b[0m \u001b[0mself\u001b[0m\u001b[0;34m.\u001b[0m\u001b[0m_forward_hooks\u001b[0m\u001b[0;34m.\u001b[0m\u001b[0mvalues\u001b[0m\u001b[0;34m(\u001b[0m\u001b[0;34m)\u001b[0m\u001b[0;34m:\u001b[0m\u001b[0;34m\u001b[0m\u001b[0;34m\u001b[0m\u001b[0m\n\u001b[1;32m    543\u001b[0m             \u001b[0mhook_result\u001b[0m \u001b[0;34m=\u001b[0m \u001b[0mhook\u001b[0m\u001b[0;34m(\u001b[0m\u001b[0mself\u001b[0m\u001b[0;34m,\u001b[0m \u001b[0minput\u001b[0m\u001b[0;34m,\u001b[0m \u001b[0mresult\u001b[0m\u001b[0;34m)\u001b[0m\u001b[0;34m\u001b[0m\u001b[0;34m\u001b[0m\u001b[0m\n",
      "\u001b[0;32m~/cei_pytorch_vc/deepvoice3_0421749/deepvoice3_pytorch/__init__.py\u001b[0m in \u001b[0;36mforward\u001b[0;34m(self, text_sequences, mel_targets, speaker_embed, text_positions, frame_positions, input_lengths)\u001b[0m\n\u001b[1;32m    122\u001b[0m             \u001b[0mencoder_outputs\u001b[0m\u001b[0;34m,\u001b[0m \u001b[0mmel_targets\u001b[0m\u001b[0;34m,\u001b[0m\u001b[0;34m\u001b[0m\u001b[0;34m\u001b[0m\u001b[0m\n\u001b[1;32m    123\u001b[0m             \u001b[0mtext_positions\u001b[0m\u001b[0;34m=\u001b[0m\u001b[0mtext_positions\u001b[0m\u001b[0;34m,\u001b[0m \u001b[0mframe_positions\u001b[0m\u001b[0;34m=\u001b[0m\u001b[0mframe_positions\u001b[0m\u001b[0;34m,\u001b[0m\u001b[0;34m\u001b[0m\u001b[0;34m\u001b[0m\u001b[0m\n\u001b[0;32m--> 124\u001b[0;31m             speaker_embed=speaker_embed, lengths=input_lengths)\n\u001b[0m\u001b[1;32m    125\u001b[0m \u001b[0;34m\u001b[0m\u001b[0m\n\u001b[1;32m    126\u001b[0m         \u001b[0;32mreturn\u001b[0m \u001b[0mmel_outputs\u001b[0m\u001b[0;34m,\u001b[0m \u001b[0malignments\u001b[0m\u001b[0;34m,\u001b[0m \u001b[0mdone\u001b[0m\u001b[0;34m,\u001b[0m \u001b[0mdecoder_states\u001b[0m\u001b[0;34m\u001b[0m\u001b[0;34m\u001b[0m\u001b[0m\n",
      "\u001b[0;32m/opt/conda/lib/python3.6/site-packages/torch/nn/modules/module.py\u001b[0m in \u001b[0;36m__call__\u001b[0;34m(self, *input, **kwargs)\u001b[0m\n\u001b[1;32m    539\u001b[0m             \u001b[0mresult\u001b[0m \u001b[0;34m=\u001b[0m \u001b[0mself\u001b[0m\u001b[0;34m.\u001b[0m\u001b[0m_slow_forward\u001b[0m\u001b[0;34m(\u001b[0m\u001b[0;34m*\u001b[0m\u001b[0minput\u001b[0m\u001b[0;34m,\u001b[0m \u001b[0;34m**\u001b[0m\u001b[0mkwargs\u001b[0m\u001b[0;34m)\u001b[0m\u001b[0;34m\u001b[0m\u001b[0;34m\u001b[0m\u001b[0m\n\u001b[1;32m    540\u001b[0m         \u001b[0;32melse\u001b[0m\u001b[0;34m:\u001b[0m\u001b[0;34m\u001b[0m\u001b[0;34m\u001b[0m\u001b[0m\n\u001b[0;32m--> 541\u001b[0;31m             \u001b[0mresult\u001b[0m \u001b[0;34m=\u001b[0m \u001b[0mself\u001b[0m\u001b[0;34m.\u001b[0m\u001b[0mforward\u001b[0m\u001b[0;34m(\u001b[0m\u001b[0;34m*\u001b[0m\u001b[0minput\u001b[0m\u001b[0;34m,\u001b[0m \u001b[0;34m**\u001b[0m\u001b[0mkwargs\u001b[0m\u001b[0;34m)\u001b[0m\u001b[0;34m\u001b[0m\u001b[0;34m\u001b[0m\u001b[0m\n\u001b[0m\u001b[1;32m    542\u001b[0m         \u001b[0;32mfor\u001b[0m \u001b[0mhook\u001b[0m \u001b[0;32min\u001b[0m \u001b[0mself\u001b[0m\u001b[0;34m.\u001b[0m\u001b[0m_forward_hooks\u001b[0m\u001b[0;34m.\u001b[0m\u001b[0mvalues\u001b[0m\u001b[0;34m(\u001b[0m\u001b[0;34m)\u001b[0m\u001b[0;34m:\u001b[0m\u001b[0;34m\u001b[0m\u001b[0;34m\u001b[0m\u001b[0m\n\u001b[1;32m    543\u001b[0m             \u001b[0mhook_result\u001b[0m \u001b[0;34m=\u001b[0m \u001b[0mhook\u001b[0m\u001b[0;34m(\u001b[0m\u001b[0mself\u001b[0m\u001b[0;34m,\u001b[0m \u001b[0minput\u001b[0m\u001b[0;34m,\u001b[0m \u001b[0mresult\u001b[0m\u001b[0;34m)\u001b[0m\u001b[0;34m\u001b[0m\u001b[0;34m\u001b[0m\u001b[0m\n",
      "\u001b[0;32m~/cei_pytorch_vc/deepvoice3_0421749/deepvoice3_pytorch/deepvoice3.py\u001b[0m in \u001b[0;36mforward\u001b[0;34m(self, encoder_out, inputs, text_positions, frame_positions, speaker_embed, lengths)\u001b[0m\n\u001b[1;32m    282\u001b[0m             \u001b[0;32massert\u001b[0m \u001b[0mtext_positions\u001b[0m \u001b[0;32mis\u001b[0m \u001b[0;32mnot\u001b[0m \u001b[0;32mNone\u001b[0m\u001b[0;34m\u001b[0m\u001b[0;34m\u001b[0m\u001b[0m\n\u001b[1;32m    283\u001b[0m             \u001b[0mself\u001b[0m\u001b[0;34m.\u001b[0m\u001b[0mstart_fresh_sequence\u001b[0m\u001b[0;34m(\u001b[0m\u001b[0;34m)\u001b[0m\u001b[0;34m\u001b[0m\u001b[0;34m\u001b[0m\u001b[0m\n\u001b[0;32m--> 284\u001b[0;31m             \u001b[0moutputs\u001b[0m \u001b[0;34m=\u001b[0m \u001b[0mself\u001b[0m\u001b[0;34m.\u001b[0m\u001b[0mincremental_forward\u001b[0m\u001b[0;34m(\u001b[0m\u001b[0mencoder_out\u001b[0m\u001b[0;34m,\u001b[0m \u001b[0mtext_positions\u001b[0m\u001b[0;34m,\u001b[0m \u001b[0mspeaker_embed\u001b[0m\u001b[0;34m)\u001b[0m\u001b[0;34m\u001b[0m\u001b[0;34m\u001b[0m\u001b[0m\n\u001b[0m\u001b[1;32m    285\u001b[0m             \u001b[0;32mreturn\u001b[0m \u001b[0moutputs\u001b[0m\u001b[0;34m\u001b[0m\u001b[0;34m\u001b[0m\u001b[0m\n\u001b[1;32m    286\u001b[0m \u001b[0;34m\u001b[0m\u001b[0m\n",
      "\u001b[0;32m~/cei_pytorch_vc/deepvoice3_0421749/deepvoice3_pytorch/deepvoice3.py\u001b[0m in \u001b[0;36mincremental_forward\u001b[0;34m(self, encoder_out, text_positions, speaker_embed, initial_input, test_inputs)\u001b[0m\n\u001b[1;32m    376\u001b[0m         \u001b[0;32mif\u001b[0m \u001b[0mself\u001b[0m\u001b[0;34m.\u001b[0m\u001b[0mspeaker_proj1\u001b[0m \u001b[0;32mis\u001b[0m \u001b[0;32mnot\u001b[0m \u001b[0;32mNone\u001b[0m\u001b[0;34m:\u001b[0m\u001b[0;34m\u001b[0m\u001b[0;34m\u001b[0m\u001b[0m\n\u001b[1;32m    377\u001b[0m             \u001b[0mw\u001b[0m \u001b[0;34m=\u001b[0m \u001b[0mw\u001b[0m \u001b[0;34m*\u001b[0m \u001b[0mF\u001b[0m\u001b[0;34m.\u001b[0m\u001b[0msigmoid\u001b[0m\u001b[0;34m(\u001b[0m\u001b[0mself\u001b[0m\u001b[0;34m.\u001b[0m\u001b[0mspeaker_proj1\u001b[0m\u001b[0;34m(\u001b[0m\u001b[0mspeaker_embed\u001b[0m\u001b[0;34m)\u001b[0m\u001b[0;34m)\u001b[0m\u001b[0;34m.\u001b[0m\u001b[0mview\u001b[0m\u001b[0;34m(\u001b[0m\u001b[0;34m-\u001b[0m\u001b[0;36m1\u001b[0m\u001b[0;34m)\u001b[0m\u001b[0;34m\u001b[0m\u001b[0;34m\u001b[0m\u001b[0m\n\u001b[0;32m--> 378\u001b[0;31m         \u001b[0mtext_pos_embed\u001b[0m \u001b[0;34m=\u001b[0m \u001b[0mself\u001b[0m\u001b[0;34m.\u001b[0m\u001b[0membed_keys_positions\u001b[0m\u001b[0;34m(\u001b[0m\u001b[0mtext_positions\u001b[0m\u001b[0;34m,\u001b[0m \u001b[0mw\u001b[0m\u001b[0;34m)\u001b[0m\u001b[0;34m\u001b[0m\u001b[0;34m\u001b[0m\u001b[0m\n\u001b[0m\u001b[1;32m    379\u001b[0m         \u001b[0mkeys\u001b[0m \u001b[0;34m=\u001b[0m \u001b[0mkeys\u001b[0m \u001b[0;34m+\u001b[0m \u001b[0mtext_pos_embed\u001b[0m\u001b[0;34m\u001b[0m\u001b[0;34m\u001b[0m\u001b[0m\n\u001b[1;32m    380\u001b[0m \u001b[0;34m\u001b[0m\u001b[0m\n",
      "\u001b[0;32m/opt/conda/lib/python3.6/site-packages/torch/nn/modules/module.py\u001b[0m in \u001b[0;36m__call__\u001b[0;34m(self, *input, **kwargs)\u001b[0m\n\u001b[1;32m    539\u001b[0m             \u001b[0mresult\u001b[0m \u001b[0;34m=\u001b[0m \u001b[0mself\u001b[0m\u001b[0;34m.\u001b[0m\u001b[0m_slow_forward\u001b[0m\u001b[0;34m(\u001b[0m\u001b[0;34m*\u001b[0m\u001b[0minput\u001b[0m\u001b[0;34m,\u001b[0m \u001b[0;34m**\u001b[0m\u001b[0mkwargs\u001b[0m\u001b[0;34m)\u001b[0m\u001b[0;34m\u001b[0m\u001b[0;34m\u001b[0m\u001b[0m\n\u001b[1;32m    540\u001b[0m         \u001b[0;32melse\u001b[0m\u001b[0;34m:\u001b[0m\u001b[0;34m\u001b[0m\u001b[0;34m\u001b[0m\u001b[0m\n\u001b[0;32m--> 541\u001b[0;31m             \u001b[0mresult\u001b[0m \u001b[0;34m=\u001b[0m \u001b[0mself\u001b[0m\u001b[0;34m.\u001b[0m\u001b[0mforward\u001b[0m\u001b[0;34m(\u001b[0m\u001b[0;34m*\u001b[0m\u001b[0minput\u001b[0m\u001b[0;34m,\u001b[0m \u001b[0;34m**\u001b[0m\u001b[0mkwargs\u001b[0m\u001b[0;34m)\u001b[0m\u001b[0;34m\u001b[0m\u001b[0;34m\u001b[0m\u001b[0m\n\u001b[0m\u001b[1;32m    542\u001b[0m         \u001b[0;32mfor\u001b[0m \u001b[0mhook\u001b[0m \u001b[0;32min\u001b[0m \u001b[0mself\u001b[0m\u001b[0;34m.\u001b[0m\u001b[0m_forward_hooks\u001b[0m\u001b[0;34m.\u001b[0m\u001b[0mvalues\u001b[0m\u001b[0;34m(\u001b[0m\u001b[0;34m)\u001b[0m\u001b[0;34m:\u001b[0m\u001b[0;34m\u001b[0m\u001b[0;34m\u001b[0m\u001b[0m\n\u001b[1;32m    543\u001b[0m             \u001b[0mhook_result\u001b[0m \u001b[0;34m=\u001b[0m \u001b[0mhook\u001b[0m\u001b[0;34m(\u001b[0m\u001b[0mself\u001b[0m\u001b[0;34m,\u001b[0m \u001b[0minput\u001b[0m\u001b[0;34m,\u001b[0m \u001b[0mresult\u001b[0m\u001b[0;34m)\u001b[0m\u001b[0;34m\u001b[0m\u001b[0;34m\u001b[0m\u001b[0m\n",
      "\u001b[0;32m~/cei_pytorch_vc/deepvoice3_0421749/deepvoice3_pytorch/modules.py\u001b[0m in \u001b[0;36mforward\u001b[0;34m(self, x, w)\u001b[0m\n\u001b[1;32m     49\u001b[0m         \u001b[0;32mif\u001b[0m \u001b[0misscaler\u001b[0m \u001b[0;32mor\u001b[0m \u001b[0mw\u001b[0m\u001b[0;34m.\u001b[0m\u001b[0msize\u001b[0m\u001b[0;34m(\u001b[0m\u001b[0;36m0\u001b[0m\u001b[0;34m)\u001b[0m \u001b[0;34m==\u001b[0m \u001b[0;36m1\u001b[0m\u001b[0;34m:\u001b[0m\u001b[0;34m\u001b[0m\u001b[0;34m\u001b[0m\u001b[0m\n\u001b[1;32m     50\u001b[0m             \u001b[0mweight\u001b[0m \u001b[0;34m=\u001b[0m \u001b[0msinusoidal_encode\u001b[0m\u001b[0;34m(\u001b[0m\u001b[0mself\u001b[0m\u001b[0;34m.\u001b[0m\u001b[0mweight\u001b[0m\u001b[0;34m,\u001b[0m \u001b[0mw\u001b[0m\u001b[0;34m)\u001b[0m\u001b[0;34m\u001b[0m\u001b[0;34m\u001b[0m\u001b[0m\n\u001b[0;32m---> 51\u001b[0;31m             '''\n\u001b[0m\u001b[1;32m     52\u001b[0m             return self._backend.Embedding.apply(\n\u001b[1;32m     53\u001b[0m                 \u001b[0mx\u001b[0m\u001b[0;34m,\u001b[0m \u001b[0mweight\u001b[0m\u001b[0;34m,\u001b[0m\u001b[0;34m\u001b[0m\u001b[0;34m\u001b[0m\u001b[0m\n",
      "\u001b[0;32m/opt/conda/lib/python3.6/site-packages/torch/nn/modules/module.py\u001b[0m in \u001b[0;36m__getattr__\u001b[0;34m(self, name)\u001b[0m\n\u001b[1;32m    583\u001b[0m                 \u001b[0;32mreturn\u001b[0m \u001b[0mmodules\u001b[0m\u001b[0;34m[\u001b[0m\u001b[0mname\u001b[0m\u001b[0;34m]\u001b[0m\u001b[0;34m\u001b[0m\u001b[0;34m\u001b[0m\u001b[0m\n\u001b[1;32m    584\u001b[0m         raise AttributeError(\"'{}' object has no attribute '{}'\".format(\n\u001b[0;32m--> 585\u001b[0;31m             type(self).__name__, name))\n\u001b[0m\u001b[1;32m    586\u001b[0m \u001b[0;34m\u001b[0m\u001b[0m\n\u001b[1;32m    587\u001b[0m     \u001b[0;32mdef\u001b[0m \u001b[0m__setattr__\u001b[0m\u001b[0;34m(\u001b[0m\u001b[0mself\u001b[0m\u001b[0;34m,\u001b[0m \u001b[0mname\u001b[0m\u001b[0;34m,\u001b[0m \u001b[0mvalue\u001b[0m\u001b[0;34m)\u001b[0m\u001b[0;34m:\u001b[0m\u001b[0;34m\u001b[0m\u001b[0;34m\u001b[0m\u001b[0m\n",
      "\u001b[0;31mAttributeError\u001b[0m: 'SinusoidalEncoding' object has no attribute '_backend'"
     ]
    }
   ],
   "source": [
    "\n",
    "\n",
    "print(\"Command line args:\\n\", args)\n",
    "checkpoint_path = args[\"<checkpoint>\"]\n",
    "text_list_file_path = args[\"<text_list_file>\"]\n",
    "dst_dir = args[\"<dst_dir>\"]\n",
    "checkpoint_seq2seq_path = args[\"--checkpoint-seq2seq\"]\n",
    "checkpoint_postnet_path = args[\"--checkpoint-postnet\"]\n",
    "max_decoder_steps = int(args[\"--max-decoder-steps\"])\n",
    "file_name_suffix = args[\"--file-name-suffix\"]\n",
    "replace_pronunciation_prob = float(args[\"--replace_pronunciation_prob\"])\n",
    "#output_html = args[\"--output-html\"]\n",
    "speaker_id = args[\"--speaker_id\"]\n",
    "#if speaker_id is not None:\n",
    "#    speaker_id = int(speaker_id)\n",
    "\n",
    "# Override hyper parameters\n",
    "hparams.parse(args[\"--hparams\"])\n",
    "assert hparams.name == \"deepvoice3\"\n",
    "\n",
    "# Presets\n",
    "if hparams.preset is not None and hparams.preset != \"\":\n",
    "    preset = hparams.presets[hparams.preset]\n",
    "    import json\n",
    "    hparams.parse_json(json.dumps(preset))\n",
    "    print(\"Override hyper parameters with preset \\\"{}\\\": {}\".format(\n",
    "        hparams.preset, json.dumps(preset, indent=4)))\n",
    "\n",
    "_frontend = getattr(frontend, hparams.frontend)\n",
    "import train\n",
    "train._frontend = _frontend\n",
    "from train import plot_alignment, build_model\n",
    "\n",
    "# Model\n",
    "model = build_model()\n",
    "\n",
    "# Load checkpoints separately\n",
    "if checkpoint_postnet_path is not None and checkpoint_seq2seq_path is not None:\n",
    "    checkpoint = torch.load(checkpoint_seq2seq_path)\n",
    "    model.seq2seq.load_state_dict(checkpoint[\"state_dict\"])\n",
    "    checkpoint = torch.load(checkpoint_postnet_path)\n",
    "    model.postnet.load_state_dict(checkpoint[\"state_dict\"])\n",
    "    checkpoint_name = splitext(basename(checkpoint_seq2seq_path))[0]\n",
    "else:\n",
    "    checkpoint = torch.load(checkpoint_path)\n",
    "    model.load_state_dict(checkpoint[\"state_dict\"])\n",
    "    checkpoint_name = splitext(basename(checkpoint_path))[0]\n",
    "\n",
    "model.seq2seq.decoder.max_decoder_steps = max_decoder_steps\n",
    "\n",
    "os.makedirs(dst_dir, exist_ok=True)\n",
    "with open(text_list_file_path, \"rb\") as f:\n",
    "    lines = f.readlines()\n",
    "    au1 = np.array([])\n",
    "    for idx, line in enumerate(lines):\n",
    "        text = line.decode(\"utf-8\")[:-1]\n",
    "        words = nltk.word_tokenize(text)\n",
    "        waveform, alignment, _, _ = tts(model, text, p=replace_pronunciation_prob, speaker_id=speaker_id, fast=True)\n",
    "        dst_wav_path = join(dst_dir, \"{}_{}{}.wav\".format(idx, checkpoint_name, file_name_suffix))\n",
    "        dst_alignment_path = join(dst_dir, \"{}_{}{}_alignment.png\".format(idx, checkpoint_name,file_name_suffix))\n",
    "        plot_alignment(alignment.T, dst_alignment_path,\n",
    "                                                    info=\"{}, {}\".format(hparams.builder, basename(checkpoint_path)))\n",
    "        '''\n",
    "        audio. (waveform, dst_wav_path)\n",
    "        from os.path import basename, splitext\n",
    "        name = splitext(basename(text_list_file_path))[0]\n",
    "        print(name)\n",
    "        '''\n",
    "        au1 = waveform  if idx == 0 else np.concatenate((au1,sec2numpy(0.1), waveform),axis=0)\n",
    "    ipd.Audio(au1, rate=hparams.sample_rate)        \n"
   ]
  },
  {
   "cell_type": "code",
   "execution_count": null,
   "metadata": {},
   "outputs": [],
   "source": [
    "au1.shape"
   ]
  },
  {
   "cell_type": "code",
   "execution_count": null,
   "metadata": {},
   "outputs": [],
   "source": [
    " ipd.Audio(au1, rate=hparams.sample_rate)   "
   ]
  },
  {
   "cell_type": "code",
   "execution_count": null,
   "metadata": {},
   "outputs": [],
   "source": []
  }
 ],
 "metadata": {
  "kernelspec": {
   "display_name": "Python 3",
   "language": "python",
   "name": "python3"
  },
  "language_info": {
   "codemirror_mode": {
    "name": "ipython",
    "version": 3
   },
   "file_extension": ".py",
   "mimetype": "text/x-python",
   "name": "python",
   "nbconvert_exporter": "python",
   "pygments_lexer": "ipython3",
   "version": "3.6.9"
  }
 },
 "nbformat": 4,
 "nbformat_minor": 2
}
